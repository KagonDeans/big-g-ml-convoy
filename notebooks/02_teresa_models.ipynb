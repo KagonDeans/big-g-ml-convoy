{
 "cells": [
  {
   "cell_type": "code",
   "execution_count": 8,
   "metadata": {},
   "outputs": [],
   "source": [
    "import pandas as pd\n",
    "import numpy as np\n",
    "import matplotlib.pyplot as plt\n",
    "from sklearn.model_selection import train_test_split\n",
    "from sklearn.pipeline import Pipeline\n",
    "from sklearn.linear_model import LogisticRegression\n",
    "from sklearn.preprocessing import OneHotEncoder, PolynomialFeatures, StandardScaler\n",
    "from sklearn.compose import ColumnTransformer\n",
    "from sklearn.feature_selection import VarianceThreshold\n",
    "from sklearn.metrics import accuracy_score, classification_report, confusion_matrix\n",
    "from sklearn.impute import SimpleImputer"
   ]
  },
  {
   "cell_type": "markdown",
   "metadata": {},
   "source": [
    "Potential important factors:\n",
    "- ecuSource: ignore 3, 11 to see if it boosts model performance\n",
    "- engine temp columns, turboBoostPressure\n",
    "- BarometricPressure factors into load\n",
    "- EngineLoad complicated (percentage 0-1 if not turbo-boosted)\n",
    "- generally engine-related columns would be interesting"
   ]
  },
  {
   "cell_type": "code",
   "execution_count": 2,
   "metadata": {},
   "outputs": [
    {
     "name": "stderr",
     "output_type": "stream",
     "text": [
      "/var/folders/xm/vmtk5pms0jzb2kmtm00lwtn80000gn/T/ipykernel_37798/699357233.py:1: DtypeWarning: Columns (9) have mixed types. Specify dtype option on import or set low_memory=False.\n",
      "  fault_diag = pd.read_csv('../data/fault_diag.csv')\n"
     ]
    }
   ],
   "source": [
    "fault_diag = pd.read_csv('../data/fault_diag.csv')"
   ]
  },
  {
   "cell_type": "markdown",
   "metadata": {},
   "source": [
    "First model, simple logistic regression - not expected to do well."
   ]
  },
  {
   "cell_type": "code",
   "execution_count": 6,
   "metadata": {},
   "outputs": [
    {
     "name": "stdout",
     "output_type": "stream",
     "text": [
      "0.9953939517420031\n",
      "              precision    recall  f1-score   support\n",
      "\n",
      "       False       1.00      1.00      1.00    136795\n",
      "        True       0.00      0.00      0.00       633\n",
      "\n",
      "    accuracy                           1.00    137428\n",
      "   macro avg       0.50      0.50      0.50    137428\n",
      "weighted avg       0.99      1.00      0.99    137428\n",
      "\n"
     ]
    }
   ],
   "source": [
    "variables = ['BarometricPressure', 'EngineCoolantTemperature', 'EngineLoad', 'EngineOilPressure', 'EngineOilTemperature']\n",
    "\n",
    "X = fault_diag[variables]\n",
    "y = fault_diag['derate_full']\n",
    "\n",
    "# split data into train/test before scaling and imputation\n",
    "X_train, X_test, y_train, y_test = train_test_split(X, y, random_state = 42, stratify = y)\n",
    "\n",
    "# Impute missing values with the mean of each column\n",
    "imputer = SimpleImputer(strategy = 'mean')\n",
    "X_train_imputed = imputer.fit_transform(X_train)\n",
    "X_test_imputed = imputer.transform(X_test)\n",
    "\n",
    "logreg = LogisticRegression(max_iter = 1000).fit(X_train_imputed, y_train)\n",
    "\n",
    "print(accuracy_score(y_test, logreg.predict(X_test_imputed)))\n",
    "print(classification_report(y_test, logreg.predict(X_test_imputed), zero_division = 0.0))"
   ]
  },
  {
   "cell_type": "markdown",
   "metadata": {},
   "source": [
    "Second model. Incorporate cost information, still with simple model. *Very* bad performance on cost."
   ]
  },
  {
   "cell_type": "code",
   "execution_count": 10,
   "metadata": {},
   "outputs": [
    {
     "name": "stdout",
     "output_type": "stream",
     "text": [
      "Accuracy: 0.9953939517420031\n",
      "              precision    recall  f1-score   support\n",
      "\n",
      "       False       1.00      1.00      1.00    136795\n",
      "        True       0.00      0.00      0.00       633\n",
      "\n",
      "    accuracy                           1.00    137428\n",
      "   macro avg       0.50      0.50      0.50    137428\n",
      "weighted avg       0.99      1.00      0.99    137428\n",
      "\n",
      "Total cost: 2532000\n"
     ]
    }
   ],
   "source": [
    "variables = ['BarometricPressure', 'EngineCoolantTemperature', 'EngineLoad', 'EngineOilPressure', 'EngineOilTemperature']\n",
    "\n",
    "X = fault_diag[variables]\n",
    "y = fault_diag['derate_full']\n",
    "\n",
    "# split data into train/test before scaling and imputation\n",
    "X_train, X_test, y_train, y_test = train_test_split(X, y, random_state = 42, stratify = y)\n",
    "\n",
    "# Impute missing values with the mean of each column\n",
    "imputer = SimpleImputer(strategy = 'mean')\n",
    "X_train_imputed = imputer.fit_transform(X_train)\n",
    "X_test_imputed = imputer.transform(X_test)\n",
    "\n",
    "logreg = LogisticRegression(max_iter = 1000).fit(X_train_imputed, y_train)\n",
    "\n",
    "# predicted probabilities for test data\n",
    "y_prob = logreg.predict_proba(X_test_imputed)[:, 1]\n",
    "\n",
    "# costs defined\n",
    "cost_fn = 4000\n",
    "cost_fp = 500\n",
    "\n",
    "# decision threshord with cost as a factor\n",
    "threshold = cost_fn / (cost_fn + cost_fp)\n",
    "\n",
    "# probabilities converted to binary predictions based on new decision threshold\n",
    "y_pred_adjusted = (y_prob >= threshold).astype(int)\n",
    "\n",
    "# evaluation of adjusted predictions\n",
    "print(f'Accuracy: {accuracy_score(y_test, y_pred_adjusted)}')\n",
    "print(classification_report(y_test, y_pred_adjusted, zero_division = 0.0))\n",
    "\n",
    "# confusion matrix\n",
    "conf_matrix = confusion_matrix(y_test, y_pred_adjusted)\n",
    "\n",
    "# cost calculation\n",
    "total_cost = conf_matrix[1, 0] * cost_fn + conf_matrix[0, 1] * cost_fp\n",
    "print(f'Total cost: {total_cost}')"
   ]
  },
  {
   "cell_type": "code",
   "execution_count": 7,
   "metadata": {},
   "outputs": [
    {
     "data": {
      "text/plain": [
       "Index(['RecordID', 'ESS_Id', 'EventTimeStamp', 'eventDescription', 'ecuSource',\n",
       "       'spn', 'fmi', 'active', 'activeTransitionCount', 'EquipmentID',\n",
       "       'Latitude', 'Longitude', 'event_date', 'event_time',\n",
       "       'false_eventTimeStamp', 'event_year', 'event_month', 'event_day',\n",
       "       'event_dayofweek', 'event_dayname', 'event_hour', 'event_time_quadrant',\n",
       "       'derate_full', 'derate_partial', 'AcceleratorPedal',\n",
       "       'BarometricPressure', 'CruiseControlActive', 'CruiseControlSetSpeed',\n",
       "       'DistanceLtd', 'EngineCoolantTemperature', 'EngineLoad',\n",
       "       'EngineOilPressure', 'EngineOilTemperature', 'EngineRpm',\n",
       "       'EngineTimeLtd', 'FuelLevel', 'FuelLtd', 'FuelRate', 'IgnStatus',\n",
       "       'IntakeManifoldTemperature', 'LampStatus', 'Speed',\n",
       "       'TurboBoostPressure'],\n",
       "      dtype='object')"
      ]
     },
     "execution_count": 7,
     "metadata": {},
     "output_type": "execute_result"
    }
   ],
   "source": [
    "fault_diag.columns"
   ]
  },
  {
   "cell_type": "markdown",
   "metadata": {},
   "source": [
    "Third model. Modify variables to account for information from Rob. Needs a lot more work."
   ]
  },
  {
   "cell_type": "code",
   "execution_count": 11,
   "metadata": {},
   "outputs": [
    {
     "name": "stdout",
     "output_type": "stream",
     "text": [
      "Accuracy: 0.9953939517420031\n",
      "              precision    recall  f1-score   support\n",
      "\n",
      "       False       1.00      1.00      1.00    136795\n",
      "        True       0.00      0.00      0.00       633\n",
      "\n",
      "    accuracy                           1.00    137428\n",
      "   macro avg       0.50      0.50      0.50    137428\n",
      "weighted avg       0.99      1.00      0.99    137428\n",
      "\n",
      "Total cost: 2532000\n"
     ]
    }
   ],
   "source": [
    "variables = ['BarometricPressure', 'EngineCoolantTemperature', 'EngineLoad', 'EngineOilPressure', 'EngineOilTemperature', 'EngineRpm', 'EngineTimeLtd', 'IntakeManifoldTemperature', 'TurboBoostPressure']\n",
    "\n",
    "X = fault_diag[variables]\n",
    "y = fault_diag['derate_full']\n",
    "\n",
    "# split data into train/test before scaling and imputation\n",
    "X_train, X_test, y_train, y_test = train_test_split(X, y, random_state = 42, stratify = y)\n",
    "\n",
    "# Impute missing values with the mean of each column\n",
    "imputer = SimpleImputer(strategy = 'mean')\n",
    "X_train_imputed = imputer.fit_transform(X_train)\n",
    "X_test_imputed = imputer.transform(X_test)\n",
    "\n",
    "logreg = LogisticRegression(max_iter = 1000).fit(X_train_imputed, y_train)\n",
    "\n",
    "# predicted probabilities for test data\n",
    "y_prob = logreg.predict_proba(X_test_imputed)[:, 1]\n",
    "\n",
    "# costs defined\n",
    "cost_fn = 4000\n",
    "cost_fp = 500\n",
    "\n",
    "# decision threshord with cost as a factor\n",
    "threshold = cost_fn / (cost_fn + cost_fp)\n",
    "\n",
    "# probabilities converted to binary predictions based on new decision threshold\n",
    "y_pred_adjusted = (y_prob >= threshold).astype(int)\n",
    "\n",
    "# evaluation of adjusted predictions\n",
    "print(f'Accuracy: {accuracy_score(y_test, y_pred_adjusted)}')\n",
    "print(classification_report(y_test, y_pred_adjusted, zero_division = 0.0))\n",
    "\n",
    "# confusion matrix\n",
    "conf_matrix = confusion_matrix(y_test, y_pred_adjusted)\n",
    "\n",
    "# cost calculation\n",
    "total_cost = conf_matrix[1, 0] * cost_fn + conf_matrix[0, 1] * cost_fp\n",
    "print(f'Total cost: {total_cost}')"
   ]
  },
  {
   "cell_type": "code",
   "execution_count": null,
   "metadata": {},
   "outputs": [],
   "source": []
  }
 ],
 "metadata": {
  "kernelspec": {
   "display_name": "base",
   "language": "python",
   "name": "python3"
  },
  "language_info": {
   "codemirror_mode": {
    "name": "ipython",
    "version": 3
   },
   "file_extension": ".py",
   "mimetype": "text/x-python",
   "name": "python",
   "nbconvert_exporter": "python",
   "pygments_lexer": "ipython3",
   "version": "3.11.4"
  }
 },
 "nbformat": 4,
 "nbformat_minor": 2
}

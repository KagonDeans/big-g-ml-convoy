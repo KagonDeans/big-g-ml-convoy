{
 "cells": [
  {
   "cell_type": "code",
   "execution_count": 76,
   "metadata": {},
   "outputs": [],
   "source": [
    "import pandas as pd\n",
    "import numpy as np\n",
    "import matplotlib.pyplot as plt\n",
    "import seaborn as sns\n",
    "from sklearn.model_selection import train_test_split\n",
    "from sklearn.pipeline import Pipeline\n",
    "from sklearn.linear_model import LogisticRegression, Ridge\n",
    "from sklearn.preprocessing import OneHotEncoder, PolynomialFeatures, StandardScaler\n",
    "from sklearn.compose import ColumnTransformer\n",
    "from sklearn.feature_selection import VarianceThreshold\n",
    "from sklearn.metrics import accuracy_score, classification_report, confusion_matrix, matthews_corrcoef, f1_score, fbeta_score\n",
    "from sklearn.impute import SimpleImputer"
   ]
  },
  {
   "cell_type": "markdown",
   "metadata": {},
   "source": [
    "Potential important factors:\n",
    "- ecuSource: ignore 3, 11 to see if it boosts model performance\n",
    "- engine temp columns, turboBoostPressure\n",
    "- BarometricPressure factors into load\n",
    "- EngineLoad complicated (percentage 0-1 if not turbo-boosted)\n",
    "- generally engine-related columns would be interesting"
   ]
  },
  {
   "cell_type": "code",
   "execution_count": 2,
   "metadata": {},
   "outputs": [
    {
     "name": "stderr",
     "output_type": "stream",
     "text": [
      "/var/folders/xm/vmtk5pms0jzb2kmtm00lwtn80000gn/T/ipykernel_37798/699357233.py:1: DtypeWarning: Columns (9) have mixed types. Specify dtype option on import or set low_memory=False.\n",
      "  fault_diag = pd.read_csv('../data/fault_diag.csv')\n"
     ]
    }
   ],
   "source": [
    "fault_diag = pd.read_csv('../data/fault_diag.csv')"
   ]
  },
  {
   "cell_type": "markdown",
   "metadata": {},
   "source": [
    "First model, simple logistic regression - not expected to do well."
   ]
  },
  {
   "cell_type": "code",
   "execution_count": 6,
   "metadata": {},
   "outputs": [
    {
     "name": "stdout",
     "output_type": "stream",
     "text": [
      "0.9953939517420031\n",
      "              precision    recall  f1-score   support\n",
      "\n",
      "       False       1.00      1.00      1.00    136795\n",
      "        True       0.00      0.00      0.00       633\n",
      "\n",
      "    accuracy                           1.00    137428\n",
      "   macro avg       0.50      0.50      0.50    137428\n",
      "weighted avg       0.99      1.00      0.99    137428\n",
      "\n"
     ]
    }
   ],
   "source": [
    "variables = ['BarometricPressure', 'EngineCoolantTemperature', 'EngineLoad', 'EngineOilPressure', 'EngineOilTemperature']\n",
    "\n",
    "X = fault_diag[variables]\n",
    "y = fault_diag['derate_full']\n",
    "\n",
    "# split data into train/test before scaling and imputation\n",
    "X_train, X_test, y_train, y_test = train_test_split(X, y, random_state = 42, stratify = y)\n",
    "\n",
    "# Impute missing values with the mean of each column\n",
    "imputer = SimpleImputer(strategy = 'mean')\n",
    "X_train_imputed = imputer.fit_transform(X_train)\n",
    "X_test_imputed = imputer.transform(X_test)\n",
    "\n",
    "logreg = LogisticRegression(max_iter = 1000).fit(X_train_imputed, y_train)\n",
    "\n",
    "print(accuracy_score(y_test, logreg.predict(X_test_imputed)))\n",
    "print(classification_report(y_test, logreg.predict(X_test_imputed), zero_division = 0.0))"
   ]
  },
  {
   "cell_type": "markdown",
   "metadata": {},
   "source": [
    "Second model. Incorporate cost information, still with simple model. *Very* bad performance on cost."
   ]
  },
  {
   "cell_type": "code",
   "execution_count": 10,
   "metadata": {},
   "outputs": [
    {
     "name": "stdout",
     "output_type": "stream",
     "text": [
      "Accuracy: 0.9953939517420031\n",
      "              precision    recall  f1-score   support\n",
      "\n",
      "       False       1.00      1.00      1.00    136795\n",
      "        True       0.00      0.00      0.00       633\n",
      "\n",
      "    accuracy                           1.00    137428\n",
      "   macro avg       0.50      0.50      0.50    137428\n",
      "weighted avg       0.99      1.00      0.99    137428\n",
      "\n",
      "Total cost: 2532000\n"
     ]
    }
   ],
   "source": [
    "variables = ['BarometricPressure', 'EngineCoolantTemperature', 'EngineLoad', 'EngineOilPressure', 'EngineOilTemperature']\n",
    "\n",
    "X = fault_diag[variables]\n",
    "y = fault_diag['derate_full']\n",
    "\n",
    "# split data into train/test before scaling and imputation\n",
    "X_train, X_test, y_train, y_test = train_test_split(X, y, random_state = 42, stratify = y)\n",
    "\n",
    "# Impute missing values with the mean of each column\n",
    "imputer = SimpleImputer(strategy = 'mean')\n",
    "X_train_imputed = imputer.fit_transform(X_train)\n",
    "X_test_imputed = imputer.transform(X_test)\n",
    "\n",
    "logreg = LogisticRegression(max_iter = 1000).fit(X_train_imputed, y_train)\n",
    "\n",
    "# predicted probabilities for test data\n",
    "y_prob = logreg.predict_proba(X_test_imputed)[:, 1]\n",
    "\n",
    "# costs defined\n",
    "cost_fn = 4000\n",
    "cost_fp = 500\n",
    "\n",
    "# decision threshord with cost as a factor\n",
    "threshold = cost_fn / (cost_fn + cost_fp)\n",
    "\n",
    "# probabilities converted to binary predictions based on new decision threshold\n",
    "y_pred_adjusted = (y_prob >= threshold).astype(int)\n",
    "\n",
    "# evaluation of adjusted predictions\n",
    "print(f'Accuracy: {accuracy_score(y_test, y_pred_adjusted)}')\n",
    "print(classification_report(y_test, y_pred_adjusted, zero_division = 0.0))\n",
    "\n",
    "# confusion matrix\n",
    "conf_matrix = confusion_matrix(y_test, y_pred_adjusted)\n",
    "\n",
    "# cost calculation\n",
    "total_cost = conf_matrix[1, 0] * cost_fn + conf_matrix[0, 1] * cost_fp\n",
    "print(f'Total cost: {total_cost}')"
   ]
  },
  {
   "cell_type": "code",
   "execution_count": 7,
   "metadata": {},
   "outputs": [
    {
     "data": {
      "text/plain": [
       "Index(['RecordID', 'ESS_Id', 'EventTimeStamp', 'eventDescription', 'ecuSource',\n",
       "       'spn', 'fmi', 'active', 'activeTransitionCount', 'EquipmentID',\n",
       "       'Latitude', 'Longitude', 'event_date', 'event_time',\n",
       "       'false_eventTimeStamp', 'event_year', 'event_month', 'event_day',\n",
       "       'event_dayofweek', 'event_dayname', 'event_hour', 'event_time_quadrant',\n",
       "       'derate_full', 'derate_partial', 'AcceleratorPedal',\n",
       "       'BarometricPressure', 'CruiseControlActive', 'CruiseControlSetSpeed',\n",
       "       'DistanceLtd', 'EngineCoolantTemperature', 'EngineLoad',\n",
       "       'EngineOilPressure', 'EngineOilTemperature', 'EngineRpm',\n",
       "       'EngineTimeLtd', 'FuelLevel', 'FuelLtd', 'FuelRate', 'IgnStatus',\n",
       "       'IntakeManifoldTemperature', 'LampStatus', 'Speed',\n",
       "       'TurboBoostPressure'],\n",
       "      dtype='object')"
      ]
     },
     "execution_count": 7,
     "metadata": {},
     "output_type": "execute_result"
    }
   ],
   "source": [
    "fault_diag.columns"
   ]
  },
  {
   "cell_type": "markdown",
   "metadata": {},
   "source": [
    "Third model. Modify variables to account for information from Rob. Needs a lot more work."
   ]
  },
  {
   "cell_type": "code",
   "execution_count": 11,
   "metadata": {},
   "outputs": [
    {
     "name": "stdout",
     "output_type": "stream",
     "text": [
      "Accuracy: 0.9953939517420031\n",
      "              precision    recall  f1-score   support\n",
      "\n",
      "       False       1.00      1.00      1.00    136795\n",
      "        True       0.00      0.00      0.00       633\n",
      "\n",
      "    accuracy                           1.00    137428\n",
      "   macro avg       0.50      0.50      0.50    137428\n",
      "weighted avg       0.99      1.00      0.99    137428\n",
      "\n",
      "Total cost: 2532000\n"
     ]
    }
   ],
   "source": [
    "variables = ['BarometricPressure', 'EngineCoolantTemperature', 'EngineLoad', 'EngineOilPressure', 'EngineOilTemperature', 'EngineRpm', 'EngineTimeLtd', 'IntakeManifoldTemperature', 'TurboBoostPressure']\n",
    "\n",
    "X = fault_diag[variables]\n",
    "y = fault_diag['derate_full']\n",
    "\n",
    "# split data into train/test before scaling and imputation\n",
    "X_train, X_test, y_train, y_test = train_test_split(X, y, random_state = 42, stratify = y)\n",
    "\n",
    "# Impute missing values with the mean of each column\n",
    "imputer = SimpleImputer(strategy = 'mean')\n",
    "X_train_imputed = imputer.fit_transform(X_train)\n",
    "X_test_imputed = imputer.transform(X_test)\n",
    "\n",
    "logreg = LogisticRegression(max_iter = 1000).fit(X_train_imputed, y_train)\n",
    "\n",
    "# predicted probabilities for test data\n",
    "y_prob = logreg.predict_proba(X_test_imputed)[:, 1]\n",
    "\n",
    "# costs defined\n",
    "cost_fn = 4000\n",
    "cost_fp = 500\n",
    "\n",
    "# decision threshord with cost as a factor\n",
    "threshold = cost_fn / (cost_fn + cost_fp)\n",
    "\n",
    "# probabilities converted to binary predictions based on new decision threshold\n",
    "y_pred_adjusted = (y_prob >= threshold).astype(int)\n",
    "\n",
    "# evaluation of adjusted predictions\n",
    "print(f'Accuracy: {accuracy_score(y_test, y_pred_adjusted)}')\n",
    "print(classification_report(y_test, y_pred_adjusted, zero_division = 0.0))\n",
    "\n",
    "# confusion matrix\n",
    "conf_matrix = confusion_matrix(y_test, y_pred_adjusted)\n",
    "\n",
    "# cost calculation\n",
    "total_cost = conf_matrix[1, 0] * cost_fn + conf_matrix[0, 1] * cost_fp\n",
    "print(f'Total cost: {total_cost}')"
   ]
  },
  {
   "cell_type": "markdown",
   "metadata": {},
   "source": [
    "Start experimenting with imbalanced class techniques."
   ]
  },
  {
   "cell_type": "code",
   "execution_count": 26,
   "metadata": {},
   "outputs": [
    {
     "name": "stdout",
     "output_type": "stream",
     "text": [
      "Accuracy: 0.9953884775608958\n",
      "MCC: 0.0\n",
      "              precision    recall  f1-score   support\n",
      "\n",
      "       False       1.00      1.00      1.00    109435\n",
      "        True       0.00      0.00      0.00       507\n",
      "\n",
      "    accuracy                           1.00    109942\n",
      "   macro avg       0.50      0.50      0.50    109942\n",
      "weighted avg       0.99      1.00      0.99    109942\n",
      "\n",
      "Confusion matrix: [[109435      0]\n",
      " [   507      0]]\n",
      "Total cost: 2028000\n"
     ]
    }
   ],
   "source": [
    "variables = ['BarometricPressure', 'EngineCoolantTemperature', 'EngineLoad', 'EngineOilPressure', 'EngineOilTemperature', 'EngineRpm', 'EngineTimeLtd', 'IntakeManifoldTemperature', 'TurboBoostPressure']\n",
    "\n",
    "X = fault_diag[variables]\n",
    "y = fault_diag['derate_full']\n",
    "\n",
    "# train-test-validation split\n",
    "X_train, X_test, y_train, y_test = train_test_split(X, y, stratify = y, random_state = 321, train_size = 0.8)\n",
    "X_train, X_val, y_train, y_val = train_test_split(X_train, y_train, stratify = y_train, random_state = 321, train_size = 0.6/0.8)\n",
    "\n",
    "# same model as before\n",
    "# Impute missing values with the mean of each column\n",
    "imputer = SimpleImputer(strategy = 'mean')\n",
    "X_train_imputed = imputer.fit_transform(X_train)\n",
    "X_test_imputed = imputer.transform(X_test)\n",
    "X_val_imputed = imputer.transform(X_val)\n",
    "\n",
    "logreg = LogisticRegression(max_iter = 1000).fit(X_train_imputed, y_train)\n",
    "\n",
    "# predicted probabilities for test data\n",
    "y_prob = logreg.predict_proba(X_val_imputed)[:, 1]\n",
    "\n",
    "# costs defined\n",
    "cost_fn = 4000\n",
    "cost_fp = 500\n",
    "\n",
    "# decision threshold with cost as a factor\n",
    "threshold = cost_fn / (cost_fn + cost_fp)\n",
    "\n",
    "# probabilities converted to binary predictions based on new decision threshold\n",
    "y_pred_adjusted = (y_prob >= threshold).astype(int)\n",
    "\n",
    "# evaluation of adjusted predictions\n",
    "print(f'Accuracy: {accuracy_score(y_test, y_pred_adjusted)}')\n",
    "print(f'MCC: {matthews_corrcoef(y_test, y_pred_adjusted)}')\n",
    "print(classification_report(y_test, y_pred_adjusted, zero_division = 0.0))\n",
    "\n",
    "# confusion matrix\n",
    "conf_matrix = confusion_matrix(y_test, y_pred_adjusted)\n",
    "print(f'Confusion matrix: {conf_matrix}')\n",
    "\n",
    "# cost calculation\n",
    "total_cost = conf_matrix[1, 0] * cost_fn + conf_matrix[0, 1] * cost_fp\n",
    "print(f'Total cost: {total_cost}')"
   ]
  },
  {
   "cell_type": "code",
   "execution_count": 22,
   "metadata": {},
   "outputs": [
    {
     "data": {
      "text/html": [
       "<div>\n",
       "<style scoped>\n",
       "    .dataframe tbody tr th:only-of-type {\n",
       "        vertical-align: middle;\n",
       "    }\n",
       "\n",
       "    .dataframe tbody tr th {\n",
       "        vertical-align: top;\n",
       "    }\n",
       "\n",
       "    .dataframe thead th {\n",
       "        text-align: right;\n",
       "    }\n",
       "</style>\n",
       "<table border=\"1\" class=\"dataframe\">\n",
       "  <thead>\n",
       "    <tr style=\"text-align: right;\">\n",
       "      <th></th>\n",
       "      <th>threshold</th>\n",
       "      <th>f1</th>\n",
       "    </tr>\n",
       "  </thead>\n",
       "  <tbody>\n",
       "    <tr>\n",
       "      <th>0</th>\n",
       "      <td>0.10</td>\n",
       "      <td>0.0</td>\n",
       "    </tr>\n",
       "    <tr>\n",
       "      <th>62</th>\n",
       "      <td>0.72</td>\n",
       "      <td>0.0</td>\n",
       "    </tr>\n",
       "    <tr>\n",
       "      <th>60</th>\n",
       "      <td>0.70</td>\n",
       "      <td>0.0</td>\n",
       "    </tr>\n",
       "    <tr>\n",
       "      <th>59</th>\n",
       "      <td>0.69</td>\n",
       "      <td>0.0</td>\n",
       "    </tr>\n",
       "    <tr>\n",
       "      <th>58</th>\n",
       "      <td>0.68</td>\n",
       "      <td>0.0</td>\n",
       "    </tr>\n",
       "  </tbody>\n",
       "</table>\n",
       "</div>"
      ],
      "text/plain": [
       "    threshold   f1\n",
       "0        0.10  0.0\n",
       "62       0.72  0.0\n",
       "60       0.70  0.0\n",
       "59       0.69  0.0\n",
       "58       0.68  0.0"
      ]
     },
     "execution_count": 22,
     "metadata": {},
     "output_type": "execute_result"
    }
   ],
   "source": [
    "# changing decision threshold\n",
    "y_val_pred_proba = logreg.predict_proba(X_val_imputed)[:,1]\n",
    "\n",
    "candidate_thresholds = np.arange(start = 0.1, stop = 0.925, step = 0.01)\n",
    "thresholds = pd.DataFrame({'threshold': candidate_thresholds})\n",
    "thresholds['f1'] = thresholds['threshold'].apply(lambda x: f1_score(y_val, y_val_pred_proba > x))\n",
    "thresholds.sort_values('f1', ascending = False).head()"
   ]
  },
  {
   "cell_type": "code",
   "execution_count": 24,
   "metadata": {},
   "outputs": [
    {
     "data": {
      "text/html": [
       "<div>\n",
       "<style scoped>\n",
       "    .dataframe tbody tr th:only-of-type {\n",
       "        vertical-align: middle;\n",
       "    }\n",
       "\n",
       "    .dataframe tbody tr th {\n",
       "        vertical-align: top;\n",
       "    }\n",
       "\n",
       "    .dataframe thead th {\n",
       "        text-align: right;\n",
       "    }\n",
       "</style>\n",
       "<table border=\"1\" class=\"dataframe\">\n",
       "  <thead>\n",
       "    <tr style=\"text-align: right;\">\n",
       "      <th></th>\n",
       "      <th>threshold</th>\n",
       "      <th>fbeta</th>\n",
       "    </tr>\n",
       "  </thead>\n",
       "  <tbody>\n",
       "    <tr>\n",
       "      <th>0</th>\n",
       "      <td>0.10</td>\n",
       "      <td>0.0</td>\n",
       "    </tr>\n",
       "    <tr>\n",
       "      <th>62</th>\n",
       "      <td>0.72</td>\n",
       "      <td>0.0</td>\n",
       "    </tr>\n",
       "    <tr>\n",
       "      <th>60</th>\n",
       "      <td>0.70</td>\n",
       "      <td>0.0</td>\n",
       "    </tr>\n",
       "    <tr>\n",
       "      <th>59</th>\n",
       "      <td>0.69</td>\n",
       "      <td>0.0</td>\n",
       "    </tr>\n",
       "    <tr>\n",
       "      <th>58</th>\n",
       "      <td>0.68</td>\n",
       "      <td>0.0</td>\n",
       "    </tr>\n",
       "  </tbody>\n",
       "</table>\n",
       "</div>"
      ],
      "text/plain": [
       "    threshold  fbeta\n",
       "0        0.10    0.0\n",
       "62       0.72    0.0\n",
       "60       0.70    0.0\n",
       "59       0.69    0.0\n",
       "58       0.68    0.0"
      ]
     },
     "execution_count": 24,
     "metadata": {},
     "output_type": "execute_result"
    }
   ],
   "source": [
    "# trying F-beta\n",
    "beta = 0.10\n",
    "\n",
    "thresholds = pd.DataFrame({'threshold': candidate_thresholds})\n",
    "thresholds['fbeta'] = thresholds['threshold'].apply(lambda x: fbeta_score(y_val, y_val_pred_proba > x, beta = beta))\n",
    "thresholds.sort_values('fbeta', ascending = False).head()"
   ]
  },
  {
   "cell_type": "code",
   "execution_count": 55,
   "metadata": {},
   "outputs": [
    {
     "name": "stdout",
     "output_type": "stream",
     "text": [
      "Accuracy: 0.005703007040075677\n",
      "MCC: -0.013423540024759923\n",
      "[[   124 109311]\n",
      " [     4    503]]\n",
      "              precision    recall  f1-score   support\n",
      "\n",
      "       False       0.97      0.00      0.00    109435\n",
      "        True       0.00      0.99      0.01       507\n",
      "\n",
      "    accuracy                           0.01    109942\n",
      "   macro avg       0.49      0.50      0.01    109942\n",
      "weighted avg       0.96      0.01      0.00    109942\n",
      "\n"
     ]
    }
   ],
   "source": [
    "# whatever value I tried with beta, it had the same thresholds in the same order with 0 for the value (same with decision threshold)\n",
    "# trying one anyway\n",
    "threshold = 0.001\n",
    "\n",
    "y_pred_proba = logreg.predict_proba(X_test_imputed)[:,1]\n",
    "\n",
    "y_pred = y_pred_proba > threshold\n",
    "print(f'Accuracy: {accuracy_score(y_test, y_pred)}')\n",
    "print(f'MCC: {matthews_corrcoef(y_test, y_pred)}')\n",
    "print(confusion_matrix(y_test, y_pred))\n",
    "print(classification_report(y_test, y_pred))"
   ]
  },
  {
   "cell_type": "code",
   "execution_count": 56,
   "metadata": {},
   "outputs": [
    {
     "name": "stdout",
     "output_type": "stream",
     "text": [
      "Total cost: 54671500\n"
     ]
    }
   ],
   "source": [
    "# going to an extremely low threshold at least shifted the needle, putting that through cost calculations\n",
    "# confusion matrix\n",
    "conf_matrix = confusion_matrix(y_test, y_pred)\n",
    "\n",
    "# cost calculation\n",
    "total_cost = conf_matrix[1, 0] * cost_fn + conf_matrix[0, 1] * cost_fp\n",
    "print(f'Total cost: {total_cost}')\n",
    "\n",
    "### MUCH WORSE ###\n",
    "# changing the beta value produced worse results from a cost perspective at any value where it predicted any derates at all - too many false positives?"
   ]
  },
  {
   "cell_type": "code",
   "execution_count": 93,
   "metadata": {},
   "outputs": [
    {
     "data": {
      "image/png": "[encoded data removed]",
      "text/plain": [
       "<Figure size 640x480 with 2 Axes>"
      ]
     },
     "metadata": {},
     "output_type": "display_data"
    }
   ],
   "source": [
    "# see which predictors are correlated and take out half of highly correlated pairs\n",
    "corr_columns = ['spn', 'fmi', 'AcceleratorPedal', 'BarometricPressure', 'CruiseControlSetSpeed', 'DistanceLtd', 'EngineCoolantTemperature', 'EngineRpm', \n",
    "                'EngineTimeLtd', 'FuelLevel', 'FuelLtd', 'FuelRate', 'IntakeManifoldTemperature', 'Speed', 'TurboBoostPressure', 'derate_full']\n",
    "\n",
    "corr_matrix = fault_diag[corr_columns].corr()\n",
    "# print(corr_matrix)\n",
    "\n",
    "sns.heatmap(corr_matrix);\n"
   ]
  },
  {
   "cell_type": "code",
   "execution_count": 94,
   "metadata": {},
   "outputs": [],
   "source": [
    "# code to find more correlated columns\n",
    "# from https://medium.com/@yatharthranjan/finding-top-correlation-pairs-from-a-large-number-of-variables-in-pandas-f530be53e82a#:~:text=The%20Pandas%20DataFrame%20function%20corr,is%20massive%20on%20both%20axes.\n",
    "# modified slightly for use with this dataset\n",
    "\n",
    "def get_top_correlations_blog(df, columns, threshold=0.6):\n",
    "    \"\"\"\n",
    "    df: the dataframe to get correlations from\n",
    "    threshold: the maximum and minimum value to include for correlations. For eg, if this is 0.4, only pairs haveing a correlation coefficient greater than 0.4 or less than -0.4 will be included in the results. \n",
    "    \"\"\"\n",
    "    \n",
    "    orig_corr = df[columns].corr()\n",
    "    c = orig_corr.abs()\n",
    "\n",
    "    so = c.unstack()\n",
    "\n",
    "    print(\"|    Variable 1    |    Variable 2    | Correlation Coefficient    |\")\n",
    "    print(\"|------------------|------------------|----------------------------|\")\n",
    "    \n",
    "    i=0\n",
    "    pairs=set()\n",
    "    result = pd.DataFrame()\n",
    "    for index, value in so.sort_values(ascending = False).items():\n",
    "        # Exclude duplicates and self-correlations\n",
    "        if value > threshold \\\n",
    "        and index[0] != index[1] \\\n",
    "        and (index[0], index[1]) not in pairs \\\n",
    "        and (index[1], index[0]) not in pairs:\n",
    "            \n",
    "            print(f'|    {index[0]}    |    {index[1]}    |    {orig_corr.loc[(index[0], index[1])]}    |')\n",
    "            result.loc[i, ['Variable 1', 'Variable 2', 'Correlation Coefficient']] = [index[0], index[1], orig_corr.loc[(index[0], index[1])]]\n",
    "            pairs.add((index[0], index[1]))\n",
    "            i+=1\n",
    "    return result.reset_index(drop=True).set_index(['Variable 1', 'Variable 2'])\n"
   ]
  },
  {
   "cell_type": "code",
   "execution_count": 95,
   "metadata": {},
   "outputs": [
    {
     "name": "stdout",
     "output_type": "stream",
     "text": [
      "|    Variable 1    |    Variable 2    | Correlation Coefficient    |\n",
      "|------------------|------------------|----------------------------|\n",
      "|    FuelRate    |    TurboBoostPressure    |    0.8967936356237725    |\n",
      "|    DistanceLtd    |    FuelLtd    |    0.8183936008017506    |\n",
      "|    DistanceLtd    |    EngineTimeLtd    |    0.770309846146007    |\n",
      "|    Speed    |    EngineRpm    |    0.7487714133549392    |\n",
      "|    FuelLtd    |    EngineTimeLtd    |    0.710117814514225    |\n",
      "|    FuelRate    |    AcceleratorPedal    |    0.6999800206111046    |\n",
      "|    TurboBoostPressure    |    AcceleratorPedal    |    0.6112815918077457    |\n",
      "|    EngineRpm    |    AcceleratorPedal    |    0.6056980009931799    |\n"
     ]
    },
    {
     "data": {
      "text/html": [
       "<div>\n",
       "<style scoped>\n",
       "    .dataframe tbody tr th:only-of-type {\n",
       "        vertical-align: middle;\n",
       "    }\n",
       "\n",
       "    .dataframe tbody tr th {\n",
       "        vertical-align: top;\n",
       "    }\n",
       "\n",
       "    .dataframe thead th {\n",
       "        text-align: right;\n",
       "    }\n",
       "</style>\n",
       "<table border=\"1\" class=\"dataframe\">\n",
       "  <thead>\n",
       "    <tr style=\"text-align: right;\">\n",
       "      <th></th>\n",
       "      <th></th>\n",
       "      <th>Correlation Coefficient</th>\n",
       "    </tr>\n",
       "    <tr>\n",
       "      <th>Variable 1</th>\n",
       "      <th>Variable 2</th>\n",
       "      <th></th>\n",
       "    </tr>\n",
       "  </thead>\n",
       "  <tbody>\n",
       "    <tr>\n",
       "      <th>FuelRate</th>\n",
       "      <th>TurboBoostPressure</th>\n",
       "      <td>0.896794</td>\n",
       "    </tr>\n",
       "    <tr>\n",
       "      <th rowspan=\"2\" valign=\"top\">DistanceLtd</th>\n",
       "      <th>FuelLtd</th>\n",
       "      <td>0.818394</td>\n",
       "    </tr>\n",
       "    <tr>\n",
       "      <th>EngineTimeLtd</th>\n",
       "      <td>0.770310</td>\n",
       "    </tr>\n",
       "    <tr>\n",
       "      <th>Speed</th>\n",
       "      <th>EngineRpm</th>\n",
       "      <td>0.748771</td>\n",
       "    </tr>\n",
       "    <tr>\n",
       "      <th>FuelLtd</th>\n",
       "      <th>EngineTimeLtd</th>\n",
       "      <td>0.710118</td>\n",
       "    </tr>\n",
       "    <tr>\n",
       "      <th>FuelRate</th>\n",
       "      <th>AcceleratorPedal</th>\n",
       "      <td>0.699980</td>\n",
       "    </tr>\n",
       "    <tr>\n",
       "      <th>TurboBoostPressure</th>\n",
       "      <th>AcceleratorPedal</th>\n",
       "      <td>0.611282</td>\n",
       "    </tr>\n",
       "    <tr>\n",
       "      <th>EngineRpm</th>\n",
       "      <th>AcceleratorPedal</th>\n",
       "      <td>0.605698</td>\n",
       "    </tr>\n",
       "  </tbody>\n",
       "</table>\n",
       "</div>"
      ],
      "text/plain": [
       "                                       Correlation Coefficient\n",
       "Variable 1         Variable 2                                 \n",
       "FuelRate           TurboBoostPressure                 0.896794\n",
       "DistanceLtd        FuelLtd                            0.818394\n",
       "                   EngineTimeLtd                      0.770310\n",
       "Speed              EngineRpm                          0.748771\n",
       "FuelLtd            EngineTimeLtd                      0.710118\n",
       "FuelRate           AcceleratorPedal                   0.699980\n",
       "TurboBoostPressure AcceleratorPedal                   0.611282\n",
       "EngineRpm          AcceleratorPedal                   0.605698"
      ]
     },
     "execution_count": 95,
     "metadata": {},
     "output_type": "execute_result"
    }
   ],
   "source": [
    "get_top_correlations_blog(fault_diag, corr_columns, 0.6)"
   ]
  },
  {
   "cell_type": "code",
   "execution_count": 92,
   "metadata": {},
   "outputs": [
    {
     "name": "stdout",
     "output_type": "stream",
     "text": [
      "Accuracy: 0.7680686179985811\n",
      "MCC: 0.0005301570253521355\n",
      "              precision    recall  f1-score   support\n",
      "\n",
      "       False       1.00      0.77      0.87    109435\n",
      "        True       0.00      0.23      0.01       507\n",
      "\n",
      "    accuracy                           0.77    109942\n",
      "   macro avg       0.50      0.50      0.44    109942\n",
      "weighted avg       0.99      0.77      0.86    109942\n",
      "\n",
      "Confusion matrix: [[84325 25110]\n",
      " [  389   118]]\n",
      "Total cost: 12083000\n"
     ]
    }
   ],
   "source": [
    "# take AcceleratorPedal, FuelLtd, DistanceLtd, FuelRate, Speed out of model and try it with cost threshold\n",
    "variables = ['BarometricPressure', 'CruiseControlSetSpeed', 'EngineCoolantTemperature', 'EngineLoad', 'EngineOilPressure', 'EngineOilTemperature', 'EngineRpm', 'EngineTimeLtd', \n",
    "             'FuelLevel', 'IntakeManifoldTemperature', 'TurboBoostPressure']\n",
    "\n",
    "X = fault_diag[variables]\n",
    "y = fault_diag['derate_full']\n",
    "\n",
    "# train-test-validation split\n",
    "X_train, X_test, y_train, y_test = train_test_split(X, y, stratify = y, random_state = 321, train_size = 0.8)\n",
    "X_train, X_val, y_train, y_val = train_test_split(X_train, y_train, stratify = y_train, random_state = 321, train_size = 0.6/0.8)\n",
    "\n",
    "# same model as before\n",
    "# Impute missing values with the mean of each column\n",
    "imputer = SimpleImputer(strategy = 'mean')\n",
    "X_train_imputed = imputer.fit_transform(X_train)\n",
    "X_test_imputed = imputer.transform(X_test)\n",
    "X_val_imputed = imputer.transform(X_val)\n",
    "\n",
    "logreg = LogisticRegression(max_iter = 1000).fit(X_train_imputed, y_train)\n",
    "\n",
    "# predicted probabilities for test data\n",
    "y_prob = logreg.predict_proba(X_val_imputed)[:, 1]\n",
    "\n",
    "# costs defined\n",
    "cost_fn = 4000\n",
    "cost_fp = 500\n",
    "\n",
    "# decision threshold with cost as a factor\n",
    "# threshold = cost_fn / (cost_fn + cost_fp)\n",
    "threshold = 0.005\n",
    "\n",
    "# probabilities converted to binary predictions based on new decision threshold\n",
    "y_pred_adjusted = (y_prob >= threshold).astype(int)\n",
    "\n",
    "# evaluation of adjusted predictions\n",
    "print(f'Accuracy: {accuracy_score(y_test, y_pred_adjusted)}')\n",
    "print(f'MCC: {matthews_corrcoef(y_test, y_pred_adjusted)}')\n",
    "print(classification_report(y_test, y_pred_adjusted, zero_division = 0.0))\n",
    "\n",
    "# confusion matrix\n",
    "conf_matrix = confusion_matrix(y_test, y_pred_adjusted)\n",
    "print(f'Confusion matrix: {conf_matrix}')\n",
    "\n",
    "# cost calculation\n",
    "total_cost = conf_matrix[1, 1] * cost_fn * -1 + conf_matrix[0, 1] * cost_fp # 2nd column\n",
    "print(f'Total cost: {total_cost}')"
   ]
  },
  {
   "cell_type": "code",
   "execution_count": 88,
   "metadata": {},
   "outputs": [
    {
     "data": {
      "text/plain": [
       "(329825, 11)"
      ]
     },
     "execution_count": 88,
     "metadata": {},
     "output_type": "execute_result"
    }
   ],
   "source": [
    "X_train.shape"
   ]
  },
  {
   "cell_type": "markdown",
   "metadata": {},
   "source": [
    "Really just need to do better with the basic model I think. Haven't found anything that improves it. Try scaling the variables as well as imputing nulls.\n",
    "Also try other types of models. I just read that Random forests and gradient boosting don't require scaling."
   ]
  },
  {
   "cell_type": "code",
   "execution_count": 98,
   "metadata": {},
   "outputs": [
    {
     "name": "stdout",
     "output_type": "stream",
     "text": [
      "Accuracy: 0.974959524112714\n",
      "MCC: -0.0013617240709099738\n",
      "              precision    recall  f1-score   support\n",
      "\n",
      "       False       1.00      0.98      0.99    109435\n",
      "        True       0.00      0.02      0.01       507\n",
      "\n",
      "    accuracy                           0.97    109942\n",
      "   macro avg       0.50      0.50      0.50    109942\n",
      "weighted avg       0.99      0.97      0.98    109942\n",
      "\n",
      "Confusion matrix: [[107180   2255]\n",
      " [   498      9]]\n",
      "Total cost: 1091500\n"
     ]
    }
   ],
   "source": [
    "# not actually fitting a classifier? investigate that issue\n",
    "variables = ['BarometricPressure', 'CruiseControlSetSpeed', 'EngineCoolantTemperature', 'EngineLoad', 'EngineOilPressure', 'EngineOilTemperature', 'EngineRpm', 'EngineTimeLtd', 'FuelLevel', \n",
    "             'IntakeManifoldTemperature', 'TurboBoostPressure']\n",
    "\n",
    "X = fault_diag[variables]\n",
    "y = fault_diag['derate_full']\n",
    "\n",
    "# Impute missing values with the mean of each column\n",
    "imputer = SimpleImputer(strategy = 'mean')\n",
    "X_train_imputed = imputer.fit_transform(X_train)\n",
    "X_test_imputed = imputer.transform(X_test)\n",
    "X_val_imputed = imputer.transform(X_val)\n",
    "\n",
    "# Scale the data\n",
    "scaler = StandardScaler()\n",
    "X_train_scaled = scaler.fit_transform(X_train_imputed)\n",
    "X_test_scaled = scaler.transform(X_test_imputed)\n",
    "X_val_scaled = scaler.transform(X_val_imputed)\n",
    "\n",
    "# Ridge Regression model\n",
    "ridge = Ridge(alpha = 1.0)  # You can adjust the alpha parameter for regularization strength\n",
    "ridge.fit(X_train_scaled, y_train)\n",
    "\n",
    "# Make predictions\n",
    "y_pred = ridge.predict(X_val_scaled)\n",
    "\n",
    "# costs defined\n",
    "cost_fn = 4000\n",
    "cost_fp = 500\n",
    "\n",
    "# decision threshold with cost as a factor\n",
    "# threshold = cost_fn / (cost_fn + cost_fp)\n",
    "threshold = 0.015\n",
    "\n",
    "# Convert probabilities to binary predictions based on a threshold\n",
    "y_pred_adjusted = (y_pred >= threshold).astype(int)\n",
    "\n",
    "# Evaluation of adjusted predictions\n",
    "print(f'Accuracy: {accuracy_score(y_test, y_pred_adjusted)}')\n",
    "print(f'MCC: {matthews_corrcoef(y_test, y_pred_adjusted)}')\n",
    "print(classification_report(y_test, y_pred_adjusted, zero_division = 0.0))\n",
    "\n",
    "# Confusion matrix\n",
    "conf_matrix = confusion_matrix(y_test, y_pred_adjusted)\n",
    "print(f'Confusion matrix: {conf_matrix}')\n",
    "\n",
    "# Cost calculation\n",
    "total_cost = conf_matrix[1, 1] * cost_fn * -1 + conf_matrix[0, 1] * cost_fp\n",
    "print(f'Total cost: {total_cost}')"
   ]
  },
  {
   "cell_type": "code",
   "execution_count": null,
   "metadata": {},
   "outputs": [],
   "source": [
    "# hist gradient boosting classifier - faster than random forrest"
   ]
  }
 ],
 "metadata": {
  "kernelspec": {
   "display_name": "base",
   "language": "python",
   "name": "python3"
  },
  "language_info": {
   "codemirror_mode": {
    "name": "ipython",
    "version": 3
   },
   "file_extension": ".py",
   "mimetype": "text/x-python",
   "name": "python",
   "nbconvert_exporter": "python",
   "pygments_lexer": "ipython3",
   "version": "3.11.4"
  }
 },
 "nbformat": 4,
 "nbformat_minor": 2
}

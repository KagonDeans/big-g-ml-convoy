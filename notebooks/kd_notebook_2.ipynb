{
 "cells": [
  {
   "cell_type": "code",
   "execution_count": 1,
   "id": "93382b8c",
   "metadata": {},
   "outputs": [],
   "source": [
    "import pandas as pd\n",
    "pd.set_option(\"display.max_columns\", 100)\n",
    "import numpy as np\n",
    "\n",
    "from kmodes.kmodes import KModes\n",
    "\n",
    "from sklearn.experimental import enable_iterative_imputer\n",
    "from sklearn.impute import SimpleImputer, IterativeImputer, KNNImputer\n",
    "\n",
    "from sklearn.pipeline import Pipeline\n",
    "\n",
    "from sklearn.linear_model import LogisticRegression\n",
    "from sklearn.preprocessing import StandardScaler\n",
    "from sklearn.model_selection import train_test_split\n",
    "from sklearn.metrics import (accuracy_score, classification_report, \n",
    "                             confusion_matrix, f1_score, fbeta_score, \n",
    "                             matthews_corrcoef, brier_score_loss,\n",
    "                                r2_score, mean_absolute_error)\n",
    "\n",
    "from sklearn.calibration import CalibrationDisplay\n",
    "\n",
    "from imblearn.over_sampling import RandomOverSampler\n",
    "\n",
    "\n",
    "from sklearn.ensemble import HistGradientBoostingClassifier"
   ]
  },
  {
   "cell_type": "code",
   "execution_count": 2,
   "id": "8be9f2d9",
   "metadata": {},
   "outputs": [
    {
     "name": "stderr",
     "output_type": "stream",
     "text": [
      "/var/folders/zw/f8nk99ns29xgk598ct59jt080000gn/T/ipykernel_23146/1122963131.py:1: DtypeWarning: Columns (32) have mixed types. Specify dtype option on import or set low_memory=False.\n",
      "  faults_diagnostics = pd.read_csv('../data/faults_diagnostics.csv')\n"
     ]
    }
   ],
   "source": [
    "faults_diagnostics = pd.read_csv('../data/faults_diagnostics.csv')"
   ]
  },
  {
   "cell_type": "code",
   "execution_count": 3,
   "id": "6f41a31b",
   "metadata": {},
   "outputs": [],
   "source": [
    "faults_diagnostics_sorted = faults_diagnostics.sort_values('EventTimeStamp').reset_index(drop = True)\n",
    "\n",
    "# to find the time at which the 80% event happens, use loc to get just derate rows\n",
    "derates = faults_diagnostics_sorted.loc[(faults_diagnostics_sorted['spn'] == 5246)].reset_index(drop = True)\n",
    "\n",
    "# len * .8 to find how many events to include in train\n",
    "ts_08 = int(len(derates) * 0.8)\n",
    "ts_06 = int(len(derates) * 0.6)\n",
    "\n",
    "# get timestamp corresponding to that row number, everything at or before is train\n",
    "split_08 = derates.loc[ts_08, 'EventTimeStamp']\n",
    "split_06 = derates.loc[ts_06, 'EventTimeStamp']"
   ]
  },
  {
   "cell_type": "code",
   "execution_count": 4,
   "id": "6cf785cf",
   "metadata": {},
   "outputs": [],
   "source": [
    "# find optimal threshold\n",
    "def find_optimal_threshold(y_val, y_proba):\n",
    "    optimal_threshold = 0\n",
    "    max_savings = 0\n",
    "\n",
    "    # test threshold values to find the best\n",
    "    for threshold in np.arange(0, 1, 0.001):\n",
    "\n",
    "        y_pred = y_proba > threshold\n",
    "\n",
    "        # create confusion matrix\n",
    "        conf_matrix = confusion_matrix(y_val, y_pred)\n",
    "\n",
    "        tp = conf_matrix[1, 1]\n",
    "        fp = conf_matrix[0, 1]\n",
    "\n",
    "        # savings calculated\n",
    "        savings = (4000 * tp) - (500 * fp)\n",
    "\n",
    "        # check to see if it's best\n",
    "        if savings > max_savings:\n",
    "            max_savings = savings\n",
    "            optimal_threshold = threshold\n",
    "    \n",
    "    return optimal_threshold"
   ]
  },
  {
   "cell_type": "code",
   "execution_count": 5,
   "id": "5bb045e7",
   "metadata": {},
   "outputs": [],
   "source": [
    "def pred_with_optimal_threshold(y_test, y_proba, threshold):\n",
    "    \n",
    "    y_pred = (y_proba >= threshold).astype(int)\n",
    "\n",
    "    return y_pred"
   ]
  },
  {
   "cell_type": "code",
   "execution_count": 6,
   "id": "4e36ce3b",
   "metadata": {},
   "outputs": [],
   "source": [
    "train_set = faults_diagnostics_sorted[faults_diagnostics_sorted['EventTimeStamp'] <= split_06]\n",
    "val_set = faults_diagnostics_sorted[(faults_diagnostics_sorted['EventTimeStamp'] < split_06) & (faults_diagnostics_sorted['EventTimeStamp'] <= split_08)]\n",
    "test_set = faults_diagnostics_sorted[(faults_diagnostics_sorted['EventTimeStamp'] > split_08)]\n",
    "\n",
    "\n",
    "#Creating the predictors & specifiying the categorical predictors.\n",
    "predictors = ['AcceleratorPedal', 'BarometricPressure',\n",
    "       'CruiseControlSetSpeed', 'DistanceLtd', 'EngineCoolantTemperature',\n",
    "       'EngineLoad', 'EngineOilPressure', 'EngineOilTemperature', 'EngineRpm',\n",
    "       'EngineTimeLtd', 'FuelLevel', 'FuelLtd', 'FuelRate', 'FuelTemperature',\n",
    "       'IntakeManifoldTemperature','Speed','SwitchedBatteryVoltage', 'Throttle', \n",
    "       'TurboBoostPressure', 'CruiseControlActive_True', 'IgnStatus_True', \n",
    "       'ParkingBrake_True', 'spn','fmi', 'active', 'activeTransitionCount', \n",
    "       'LampStatus', 'EquipmentID']\n",
    "\n",
    "categorical_predictors = ['fmi', 'LampStatus','active',\n",
    "                          'ParkingBrake_True', 'IgnStatus_True',\n",
    "                          'CruiseControlActive_True', 'EquipmentID']\n",
    "target = ['had_derate']\n",
    "\n",
    "\n",
    "X_train = pd.get_dummies(train_set[predictors], columns=categorical_predictors).copy()\n",
    "X_val = pd.get_dummies(val_set[predictors], columns=categorical_predictors).copy()\n",
    "X_test = pd.get_dummies(test_set[predictors], columns=categorical_predictors).copy()\n",
    "\n",
    "y_train = train_set[target].copy()\n",
    "y_val = val_set[target].copy()\n",
    "y_test = test_set[target].copy()\n",
    "\n",
    "\n",
    "\n",
    "\n"
   ]
  },
  {
   "cell_type": "code",
   "execution_count": 7,
   "id": "eb0da5da",
   "metadata": {},
   "outputs": [
    {
     "name": "stderr",
     "output_type": "stream",
     "text": [
      "/Users/kd/anaconda3/lib/python3.10/site-packages/sklearn/impute/_iterative.py:785: ConvergenceWarning: [IterativeImputer] Early stopping criterion not reached.\n",
      "  warnings.warn(\n",
      "/Users/kd/anaconda3/lib/python3.10/site-packages/sklearn/utils/validation.py:1143: DataConversionWarning: A column-vector y was passed when a 1d array was expected. Please change the shape of y to (n_samples, ), for example using ravel().\n",
      "  y = column_or_1d(y, warn=True)\n"
     ]
    }
   ],
   "source": [
    "#boolean predictor variables.\n",
    "predictors_bool = [ 'LampStatus_0',\n",
    "'LampStatus_2',\n",
    "'LampStatus_9',\n",
    "'LampStatus_11',\n",
    "'LampStatus_255',\n",
    "'LampStatus_511',\n",
    "'LampStatus_617',\n",
    "'LampStatus_1023',\n",
    "'LampStatus_1279',\n",
    "'LampStatus_2035',\n",
    "'LampStatus_2047',\n",
    "'LampStatus_4351',\n",
    "'LampStatus_5119',\n",
    "'LampStatus_5375',\n",
    "'LampStatus_6143',\n",
    "'LampStatus_16639',\n",
    "'LampStatus_16895',\n",
    "'LampStatus_17407',\n",
    "'LampStatus_17663',\n",
    "'LampStatus_18419',\n",
    "'LampStatus_18431',\n",
    "'LampStatus_20735',\n",
    "'LampStatus_21503',\n",
    "'LampStatus_22515',\n",
    "'LampStatus_22527',\n",
    "'LampStatus_50175',\n",
    "'LampStatus_51199',\n",
    "'LampStatus_62463',\n",
    "'LampStatus_63487',\n",
    " 'LampStatus_65535',\n",
    "     'ParkingBrake_True_False',\n",
    "     'ParkingBrake_True_True',\n",
    "     'IgnStatus_True_False',\n",
    "     'IgnStatus_True_True',\n",
    "     'CruiseControlActive_True_False',\n",
    "     'CruiseControlActive_True_True',]\n",
    "\n",
    "#numeric predictor variables.\n",
    "predictors_num = list(X_train.columns[X_train.dtypes == 'float']) + ['activeTransitionCount']\n",
    "\n",
    "#imputing the boolean predictors by the mode.\n",
    "bool_cols = pd.DataFrame(SimpleImputer(strategy = 'most_frequent').fit_transform(X_train[predictors_bool].astype(str)), \n",
    "            columns = predictors_bool)\n",
    "\n",
    "#creating the scaler and iterative variables to be used on all the numeric predictors. \n",
    "scaler = StandardScaler()\n",
    "iterative_imputer = IterativeImputer()\n",
    "\n",
    "#initializes scaler & fits to the numeric predictors. \n",
    "X_train_scaled = scaler.fit_transform(X_train[predictors_num])\n",
    "X_train_imputed = iterative_imputer.fit_transform(X_train_scaled)\n",
    "\n",
    "#scale validation and test data\n",
    "X_val_scaled = scaler.transform(X_val[predictors_num])  \n",
    "X_val_imputed = iterative_imputer.transform(X_val_scaled)\n",
    "\n",
    "X_test_scaled = scaler.transform(X_test[predictors_num])  \n",
    "X_test_imputed = iterative_imputer.transform(X_test_scaled)\n",
    "\n",
    "# Initialize and fit HistGradientBoostingClassifier\n",
    "hgb = HistGradientBoostingClassifier()\n",
    "hgb.fit(X_train_imputed, y_train)\n",
    "\n",
    "val_preds = hgb.predict(X_val_imputed)"
   ]
  },
  {
   "cell_type": "code",
   "execution_count": 8,
   "id": "0a967336",
   "metadata": {},
   "outputs": [],
   "source": [
    "# calculate and print metrics\n",
    "def calculate_metrics(y_val, val_preds):\n",
    "    \n",
    "    metrics = {}\n",
    "    \n",
    "    metrics['accuracy'] = accuracy_score(y_val, val_preds)\n",
    "    metrics['matthews_corrcoef'] = matthews_corrcoef(y_val, val_preds)\n",
    "    metrics['classification_report'] = classification_report(y_val, val_preds, zero_division = 0.0)\n",
    "    metrics['confusion_matrix'] = confusion_matrix(y_val, val_preds)\n",
    "    metrics['model_savings'] = metrics['confusion_matrix'][1, 1] * 4000 - metrics['confusion_matrix'][0, 1] * 500\n",
    "    \n",
    "    return metrics\n",
    "\n",
    "def print_metrics(metrics):\n",
    "    \n",
    "    print(f'Accuracy score: {metrics[\"accuracy\"]}')\n",
    "    print(f'Matthews corr coef: {metrics[\"matthews_corrcoef\"]}')\n",
    "    print('Classification Report:')\n",
    "    print(metrics['classification_report'])\n",
    "    print('Confusion Matrix:')\n",
    "    print(metrics['confusion_matrix'])\n",
    "    print(f'Model savings: {metrics[\"model_savings\"]}')"
   ]
  },
  {
   "cell_type": "code",
   "execution_count": 9,
   "id": "263214e4",
   "metadata": {},
   "outputs": [
    {
     "name": "stdout",
     "output_type": "stream",
     "text": [
      "Accuracy score: 0.9989580011304109\n",
      "Matthews corr coef: 0.1538941234393452\n",
      "Classification Report:\n",
      "              precision    recall  f1-score   support\n",
      "\n",
      "       False       1.00      1.00      1.00    632836\n",
      "        True       0.26      0.09      0.14       562\n",
      "\n",
      "    accuracy                           1.00    633398\n",
      "   macro avg       0.63      0.55      0.57    633398\n",
      "weighted avg       1.00      1.00      1.00    633398\n",
      "\n",
      "Confusion Matrix:\n",
      "[[632686    150]\n",
      " [   510     52]]\n",
      "Model savings: 133000\n"
     ]
    }
   ],
   "source": [
    "metrics = calculate_metrics(y_val, val_preds)\n",
    "print_metrics(metrics)"
   ]
  },
  {
   "cell_type": "code",
   "execution_count": 10,
   "id": "24900d8d",
   "metadata": {},
   "outputs": [
    {
     "name": "stdout",
     "output_type": "stream",
     "text": [
      "Accuracy score: 0.9988651191018055\n",
      "Matthews corr coef: 0.0\n",
      "Classification Report:\n",
      "              precision    recall  f1-score   support\n",
      "\n",
      "       False       1.00      1.00      1.00    164588\n",
      "        True       0.00      0.00      0.00       187\n",
      "\n",
      "    accuracy                           1.00    164775\n",
      "   macro avg       0.50      0.50      0.50    164775\n",
      "weighted avg       1.00      1.00      1.00    164775\n",
      "\n",
      "Confusion Matrix:\n",
      "[[164588      0]\n",
      " [   187      0]]\n",
      "Model savings: 0\n"
     ]
    }
   ],
   "source": [
    "# Predict on test data\n",
    "test_preds = hgb.predict(X_test_imputed)\n",
    "\n",
    "metrics = calculate_metrics(y_test, test_preds)\n",
    "print_metrics(metrics)\n",
    "\n"
   ]
  },
  {
   "cell_type": "code",
   "execution_count": null,
   "id": "026aabef",
   "metadata": {},
   "outputs": [],
   "source": []
  },
  {
   "cell_type": "code",
   "execution_count": null,
   "id": "b0b57ee0",
   "metadata": {},
   "outputs": [],
   "source": []
  },
  {
   "cell_type": "code",
   "execution_count": null,
   "id": "c4e12d4d",
   "metadata": {},
   "outputs": [],
   "source": []
  },
  {
   "cell_type": "code",
   "execution_count": null,
   "id": "68c38176",
   "metadata": {},
   "outputs": [],
   "source": []
  },
  {
   "cell_type": "code",
   "execution_count": null,
   "id": "2010a04e",
   "metadata": {},
   "outputs": [],
   "source": []
  },
  {
   "cell_type": "code",
   "execution_count": null,
   "id": "ac036151",
   "metadata": {},
   "outputs": [],
   "source": []
  },
  {
   "cell_type": "code",
   "execution_count": null,
   "id": "a7f92ad2",
   "metadata": {},
   "outputs": [],
   "source": []
  },
  {
   "cell_type": "code",
   "execution_count": null,
   "id": "c31c6694",
   "metadata": {},
   "outputs": [],
   "source": []
  },
  {
   "cell_type": "code",
   "execution_count": null,
   "id": "b6a606b1",
   "metadata": {},
   "outputs": [],
   "source": []
  },
  {
   "cell_type": "code",
   "execution_count": null,
   "id": "15fd9bd1",
   "metadata": {},
   "outputs": [],
   "source": []
  },
  {
   "cell_type": "code",
   "execution_count": null,
   "id": "287506bb",
   "metadata": {},
   "outputs": [],
   "source": []
  }
 ],
 "metadata": {
  "kernelspec": {
   "display_name": "Python 3 (ipykernel)",
   "language": "python",
   "name": "python3"
  },
  "language_info": {
   "codemirror_mode": {
    "name": "ipython",
    "version": 3
   },
   "file_extension": ".py",
   "mimetype": "text/x-python",
   "name": "python",
   "nbconvert_exporter": "python",
   "pygments_lexer": "ipython3",
   "version": "3.10.9"
  }
 },
 "nbformat": 4,
 "nbformat_minor": 5
}
